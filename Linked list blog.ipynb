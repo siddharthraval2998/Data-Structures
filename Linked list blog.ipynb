{
 "cells": [
  {
   "cell_type": "markdown",
   "metadata": {},
   "source": [
    "# Linked Lists"
   ]
  },
  {
   "cell_type": "markdown",
   "metadata": {},
   "source": []
  },
  {
   "cell_type": "markdown",
   "metadata": {},
   "source": [
    "***"
   ]
  },
  {
   "cell_type": "markdown",
   "metadata": {},
   "source": []
  },
  {
   "cell_type": "markdown",
   "metadata": {},
   "source": [
    "## Contents\n",
    "\n",
    "    1. Introduction\n",
    "    2. The Concept\n",
    "        1. Singly Linked Lists\n",
    "        2. Doubly Linked Lists\n",
    "        3. Circular Linked Lists\n",
    "    3. Applications\n",
    "    4. Python Implementations\n",
    "    5. Useful Interview Problems w/ solutions\n",
    "    6. Additional Resources"
   ]
  },
  {
   "cell_type": "markdown",
   "metadata": {},
   "source": []
  },
  {
   "cell_type": "markdown",
   "metadata": {},
   "source": [
    "\n",
    "\n",
    "***"
   ]
  },
  {
   "cell_type": "markdown",
   "metadata": {},
   "source": []
  },
  {
   "cell_type": "markdown",
   "metadata": {},
   "source": [
    "## Introduction"
   ]
  },
  {
   "cell_type": "markdown",
   "metadata": {},
   "source": [
    "This post is a continuation of the series on Classic Data Structures and their Implementation in Python, but these posts are stand-alone, so feel free to just go through the ones you need to, although going through the previous ones will only help cement your understanding.<br> As before, this is intended for people who are familiar with Python's syntax and functionalities and want to know how these data structures work and applied in this language. If you are unfamiliar with any concepts used here, there will be links added to the Additional Resources section, feel free to refer to them before getting started.<br>\n",
    "Today's Data structures are, Linked Lists and a couple of it's variants, namely Doubly and Circularly Linked Lists.<br>\n",
    "Unlike other posts, this one will also have a few Problems based on the topic that are widely asked in interviews to judge the understanding of these concepts. I encourage you to attempt them and spend some time on them before moving on to the solutions.<br>\n",
    "(You shall find a Jupyter Notebook containing all the code here in the link at the bottom of the last section.)<br>\n",
    "Let's get Started!"
   ]
  },
  {
   "cell_type": "markdown",
   "metadata": {},
   "source": []
  },
  {
   "cell_type": "markdown",
   "metadata": {},
   "source": [
    "***"
   ]
  },
  {
   "cell_type": "markdown",
   "metadata": {},
   "source": []
  },
  {
   "cell_type": "markdown",
   "metadata": {},
   "source": [
    "## The Concept"
   ]
  },
  {
   "cell_type": "markdown",
   "metadata": {},
   "source": [
    "There are a few problems with using arrays to store our data- \n",
    "- They are of a fixed size.(not python lists but, generally)\n",
    "- More importantly,they are expensive for new insertions and deletions. (Both are O(n) time complexity, on average.)<br>\n",
    "For these shortfalls, and more, we came up with another Data Structure called Linked Lists.<br>\n",
    "A Linked List is nothing but a collection of Nodes that are chained together. Kind of like a train.<br>\n",
    "Every Node is a seperate object that contains two things,\n",
    " 1. It's desired content (any data type) and,\n",
    " 2. A reference to the next element, which connects them.\n",
    "\n",
    "The Linked List above is called a Singly Linked List since it links to just the next element.<br>\n",
    "The first and last elements are called *HEAD* and *TAIL* respectively.<br>\n",
    "Each element starting at *HEAD* links to the next, and so on till we reach the *TAIL*. And what is the *TAIL* linked to? Well, nothing! or \"None\" in python context.<br>\n",
    "That is the crux of it. Think of it as a train, starting at the engine (*HEAD*) and going all the way to the last box.(*TAIL*) But for now, you can only travel in one direction, from first to last, because that's how the links are.<br>\n",
    "As you can imagine, if we want to add another Node at the end of the list, we need to go through the whole list, till the end and then add our new element. Pretty tiring.<br> But what if you could start at the end, and also be able to go backwards? That would make it very easy to access the elements near the end both for insertion and deletion.<br>\n",
    "That's where a Doubly Linked List comes in. It is the same as A Singly Linked List, but with one difference. Our Node, which had a link to only the next element, now also has a link to the previous element.<br> So now we can go both ways, starting at either end! Very handy.\n",
    "<br> There is yet another kind if Linked List. Take your Singly Linked List, and make your last Node(*TAIL*) point back to the first(*HEAD*).<br>What kind of shape do you think that would give us? A Circle. Hence we have a Circular Linked List. <br>\n",
    "The image below should make all of this very clear."
   ]
  },
  {
   "attachments": {
    "6a914b1d-9542-4fd4-98ba-2e0f39d80fd5.png": {
     "image/png": "[encoded data removed]"
    }
   },
   "cell_type": "markdown",
   "metadata": {},
   "source": [
    "![linked list.png](attachment:6a914b1d-9542-4fd4-98ba-2e0f39d80fd5.png)"
   ]
  },
  {
   "cell_type": "markdown",
   "metadata": {},
   "source": [
    "A few Pros and Cons of Linked Lists- "
   ]
  },
  {
   "cell_type": "markdown",
   "metadata": {},
   "source": [
    " **Pros**\n",
    "\n",
    "* Linked Lists have constant-time insertions and deletions in any position, in comparison, arrays require O(n) time to do the same thing.\n",
    "\n",
    "* Linked lists can continue to expand without having to specify their size ahead of time.\n",
    "\n",
    "**Cons**\n",
    "\n",
    "* To access an element in a linked list, you need to take O(k) time to go from the head of the list to the kth element. In contrast, arrays have constant time operations to access elements in an array."
   ]
  },
  {
   "cell_type": "code",
   "execution_count": null,
   "metadata": {},
   "outputs": [],
   "source": []
  },
  {
   "cell_type": "markdown",
   "metadata": {},
   "source": [
    "***"
   ]
  },
  {
   "cell_type": "markdown",
   "metadata": {},
   "source": []
  },
  {
   "cell_type": "markdown",
   "metadata": {},
   "source": [
    "## Applications"
   ]
  },
  {
   "cell_type": "markdown",
   "metadata": {},
   "source": [
    "A few Theoretical applications- \n",
    "- Linked Lists can be used to implement Stacks , Queues.\n",
    "- Linked Lists can also be used to implement Graphs. (Adjacency list representation of Graph).\n",
    "- Implementing Hash Tables  :-   Each Bucket of the hash table can itself be a linked list. (Open chain hashing). We will look at Hash Tables in a later post in the series.\n",
    "\n",
    "Some applications you see and experience- \n",
    "\n",
    "- Undo functionality in Photoshop or Word . Linked list of states.\n",
    "- Forward and backward navigation between webpages or apps.(Doubly Linked List)\n",
    "\n",
    "Applications that run in the background but are of the utmost \n",
    "importance- \n",
    "\n",
    "- Linked lists are useful for dynamic memory allocation.\n",
    "- Circular linked list is used in our Computers, where multiple applications are running.\n",
    "- All the running applications are kept in a circular linked list and the OS gives a fixed time slot to all for running. The Operating System keeps on iterating over the linked list until all the applications are completed.\n"
   ]
  },
  {
   "cell_type": "markdown",
   "metadata": {},
   "source": []
  },
  {
   "cell_type": "markdown",
   "metadata": {},
   "source": [
    "***"
   ]
  },
  {
   "cell_type": "markdown",
   "metadata": {},
   "source": []
  },
  {
   "cell_type": "markdown",
   "metadata": {},
   "source": [
    "## Python Implementations"
   ]
  },
  {
   "cell_type": "markdown",
   "metadata": {},
   "source": [
    "Since all the above Linked Lists are basically a collection of nodes, our main construction will be a Node Class with the following-\n",
    "- the content (value)\n",
    "- the reference to the next element (next)\n",
    "\n",
    "We will also add a reference to the previous element, which will be used for the Doubly Linked List, but NOT for the Singly and Circularly Linked List.<br>We are adding it to the Node class so that we can use the same Node Class to create all our Linked Lists."
   ]
  },
  {
   "cell_type": "code",
   "execution_count": 1,
   "metadata": {},
   "outputs": [],
   "source": [
    "class Node(object):\n",
    "    def __init__(self,value): #initializing with a value as an argument\n",
    "        self.value = value\n",
    "        self.next = None # defaults to None, till it is assigned\n",
    "        self.prev = None #for doubly linking"
   ]
  },
  {
   "cell_type": "markdown",
   "metadata": {},
   "source": [
    "### Singly Linked List"
   ]
  },
  {
   "cell_type": "markdown",
   "metadata": {},
   "source": [
    "Now let us create our singly Linked List.<br>\n",
    "We simply-\n",
    "- Create a bunch of nodes by passing intended value in *Node()*\n",
    "- Link the nodes to the next like so -  a.next = b "
   ]
  },
  {
   "cell_type": "code",
   "execution_count": 2,
   "metadata": {},
   "outputs": [],
   "source": [
    "a=Node(1)\n",
    "b=Node(2)\n",
    "c=Node(3)\n",
    "a.next=b\n",
    "b.next=c"
   ]
  },
  {
   "cell_type": "markdown",
   "metadata": {},
   "source": [
    "Time to Test it out - "
   ]
  },
  {
   "cell_type": "code",
   "execution_count": 5,
   "metadata": {},
   "outputs": [
    {
     "name": "stdout",
     "output_type": "stream",
     "text": [
      "Value of A-  1\n",
      "A is pointing to-  <__main__.Node object at 0xb3d56c10>\n",
      "Value of b-  2\n",
      "B is pointing to-  <__main__.Node object at 0xb3d56d30>\n",
      "Value of b.next-  3\n",
      "C is pointing to-  None\n"
     ]
    }
   ],
   "source": [
    "print(\"Value of A- \",a.value)\n",
    "print(\"A is pointing to- \",a.next)\n",
    "print(\"Value of b- \",b.value)\n",
    "print(\"B is pointing to- \",b.next)\n",
    "print(\"Value of b.next- \",b.next.value)\n",
    "print(\"C is pointing to- \",c.next)"
   ]
  },
  {
   "cell_type": "markdown",
   "metadata": {},
   "source": [
    "Note - a.next points to the next Node Object, i.e. B. <br>In order to see the value we need to call either \"b.value\" or equivalently \"a.next.value\"."
   ]
  },
  {
   "cell_type": "markdown",
   "metadata": {},
   "source": []
  },
  {
   "cell_type": "markdown",
   "metadata": {},
   "source": [
    "### Doubly linked list"
   ]
  },
  {
   "cell_type": "markdown",
   "metadata": {},
   "source": [
    "To create our DLL, in addition to a singly linked list, we add\n",
    "- A ***header*** Node at the beg. of the list,\n",
    "- A  ***trailer*** Node at the end of the list.\n",
    "- These dummy nodes are called ***sentinels***\n",
    "- Every insertion takes place between two existing nodes.\n",
    "- For first one, new Node is inserted b/w *header* and *trailer*."
   ]
  },
  {
   "attachments": {
    "d871e1ce-617c-4a78-a395-17502ef11861.png": {
     "image/png": "[encoded data removed]"
    }
   },
   "cell_type": "markdown",
   "metadata": {},
   "source": [
    "![dll.png](attachment:d871e1ce-617c-4a78-a395-17502ef11861.png)"
   ]
  },
  {
   "cell_type": "code",
   "execution_count": 10,
   "metadata": {},
   "outputs": [],
   "source": [
    "# modified Node class to also include a prev. pointer.\n",
    "header = Node(None)\n",
    "x = Node(1)\n",
    "y = Node(2)\n",
    "z = Node(3)\n",
    "trailer = Node(None)\n",
    "header.next =  x\n",
    "x.next = y\n",
    "           # X's previous links back to None by default\n",
    "y.next = z\n",
    "y.prev = x #Y's previous links back to X\n",
    "z.prev = y # Z's previous links back to y\n",
    "z.next = trailer # Z's next links to trailer\n",
    "trailer.prev = z"
   ]
  },
  {
   "cell_type": "markdown",
   "metadata": {},
   "source": [
    "Let us test it out - "
   ]
  },
  {
   "cell_type": "code",
   "execution_count": 11,
   "metadata": {},
   "outputs": [
    {
     "name": "stdout",
     "output_type": "stream",
     "text": [
      "Value of x-  1\n",
      "X's next node is -  <__main__.Node object at 0xaf992750>\n",
      "Value of y-  2\n",
      "Y's next node is -  <__main__.Node object at 0xaf992af0>\n",
      "Value of y's next node is -  3\n",
      "Value of y's previous node is.-  1\n",
      "z's next node is -  <__main__.Node object at 0xaf992ad0>  (trailer)\n"
     ]
    }
   ],
   "source": [
    "print(\"Value of x- \",x.value)\n",
    "print(\"X's next node is - \",x.next)\n",
    "print(\"Value of y- \",y.value)\n",
    "print(\"Y's next node is - \",y.next)\n",
    "print(\"Value of y's next node is - \",y.next.value)\n",
    "print(\"Value of y's previous node is.- \",y.prev.value)\n",
    "print(\"z's next node is - \",z.next, \" (trailer)\") "
   ]
  },
  {
   "cell_type": "markdown",
   "metadata": {},
   "source": []
  },
  {
   "cell_type": "markdown",
   "metadata": {},
   "source": [
    "### Circular Linked List"
   ]
  },
  {
   "cell_type": "markdown",
   "metadata": {},
   "source": [
    "For a Circular Linked List, simply link the last Node's \".next\" to the first Node like so -  "
   ]
  },
  {
   "cell_type": "code",
   "execution_count": 12,
   "metadata": {},
   "outputs": [
    {
     "name": "stdout",
     "output_type": "stream",
     "text": [
      "value of k is -  4\n",
      "value of m is -  6\n",
      "value of m's next node is -  4\n",
      "True\n"
     ]
    }
   ],
   "source": [
    "k=Node(4)\n",
    "l=Node(5)\n",
    "m=Node(6)\n",
    "            # creating the cycle -\n",
    "k.next = l\n",
    "l.next = m\n",
    "m.next = k\n",
    "print(\"value of k is - \",k.value)\n",
    "print(\"value of m is - \",m.value)\n",
    "print(\"value of m's next node is - \", m.next.value)\n",
    "print(k==m.next) # boolean for checking if \"k\" and m.next are the same."
   ]
  },
  {
   "cell_type": "markdown",
   "metadata": {},
   "source": [
    "### Operations"
   ]
  },
  {
   "cell_type": "markdown",
   "metadata": {},
   "source": [
    "As far as operations on these linked lists go, the main ones are-\n",
    "- Insertion of Nodes\n",
    "- Deletion of Nodes\n",
    "- Traversal of the Linked List\n",
    "\n",
    "You have hopefully understood how these Linked Lists work, So i I will leave the implementation of these operations for you to attempt. Doing this will solidify what you have learnt and as you play around with it, you will intuitively understand the inner workings, therefore I highly recommend you to do them. Without Googling Before you spend some time on it, please. <br>\n",
    "\n",
    "A few Notes to help with the above- \n",
    "- Visualise, or better yet, draw out your Linked List first.\n",
    "- Keep in mind what links, previous and/or next, you need to make, and more importantly **break**.\n",
    "- Before you break a link, make sure there is another link that leads to it, lest you lose access to the node.\n",
    "- This process will be easier if you draw out what the LL looks like now, how you want it to look at the end, and how you will manipulate the links.\n",
    "\n",
    "I will leave links to a good resource for them in the end, but **ATTEMPT THEM YOURSELF FIRST!**"
   ]
  },
  {
   "cell_type": "markdown",
   "metadata": {},
   "source": []
  },
  {
   "cell_type": "markdown",
   "metadata": {},
   "source": [
    "***"
   ]
  },
  {
   "cell_type": "markdown",
   "metadata": {},
   "source": []
  },
  {
   "cell_type": "markdown",
   "metadata": {},
   "source": [
    "## Interview Problems"
   ]
  },
  {
   "cell_type": "markdown",
   "metadata": {},
   "source": [
    "These are a couple problems that are frequently asked in technical interviews and attempting yourself them will give you a good feel of the topic and confidence and clarity over what you know and what you don't. "
   ]
  },
  {
   "cell_type": "markdown",
   "metadata": {},
   "source": [
    "#### SLL reversal \n",
    "- write a function to reverse a LL in place. \n",
    "- input head, \n",
    "- output- new head."
   ]
  },
  {
   "cell_type": "markdown",
   "metadata": {},
   "source": [
    "#### Solution\n",
    "\n",
    "Since we want to do this in place we want to make the funciton operate in O(1) space, meaning we don't want to create a new list, so we will simply use the current nodes! Time wise, we can perform the reversal in O(n) time.\n",
    "\n",
    "We can reverse the list by changing the next pointer of each node. Each node's next pointer should point to the previous node.\n",
    "\n",
    "In one pass from head to tail of our input list, we will point each node's next pointer to the previous element.\n",
    "\n",
    "Make sure to copy current.next_node into next_node **before** setting current.next to previous. "
   ]
  },
  {
   "cell_type": "code",
   "execution_count": 13,
   "metadata": {},
   "outputs": [],
   "source": [
    "def reverse(head):\n",
    "    # Set up current,previous, and next nodes\n",
    "    current = head\n",
    "    previous = None\n",
    "    nextnode = None\n",
    "    # until we have gone through to the end of the list\n",
    "    while current:    \n",
    "        # Make sure to copy the current nodes next node to a variable nextnode\n",
    "        # Before overwriting as the previous node for reversal\n",
    "        nextnode = current.next\n",
    "        # Reverse the pointer ot the nextnode\n",
    "        current.next = previous\n",
    "        # Go one forward in the list\n",
    "        previous = current\n",
    "        current = nextnode\n",
    "    return previous"
   ]
  },
  {
   "cell_type": "code",
   "execution_count": 14,
   "metadata": {},
   "outputs": [],
   "source": [
    "a = Node(1)\n",
    "b = Node(2)\n",
    "c = Node(3)\n",
    "d = Node(4)\n",
    "a.next = b\n",
    "b.next = c\n",
    "c.next = d"
   ]
  },
  {
   "cell_type": "code",
   "execution_count": 15,
   "metadata": {},
   "outputs": [
    {
     "ename": "AttributeError",
     "evalue": "'NoneType' object has no attribute 'value'",
     "output_type": "error",
     "traceback": [
      "\u001b[0;31m---------------------------------------------------------------------------\u001b[0m",
      "\u001b[0;31mAttributeError\u001b[0m                            Traceback (most recent call last)",
      "\u001b[0;32m<ipython-input-15-10648dda2cd5>\u001b[0m in \u001b[0;36m<module>\u001b[0;34m\u001b[0m\n\u001b[0;32m----> 1\u001b[0;31m \u001b[0mprint\u001b[0m\u001b[0;34m(\u001b[0m\u001b[0md\u001b[0m\u001b[0;34m.\u001b[0m\u001b[0mnext\u001b[0m\u001b[0;34m.\u001b[0m\u001b[0mvalue\u001b[0m\u001b[0;34m)\u001b[0m\u001b[0;34m\u001b[0m\u001b[0;34m\u001b[0m\u001b[0m\n\u001b[0m\u001b[1;32m      2\u001b[0m \u001b[0mprint\u001b[0m\u001b[0;34m(\u001b[0m\u001b[0mc\u001b[0m\u001b[0;34m.\u001b[0m\u001b[0mnext\u001b[0m\u001b[0;34m.\u001b[0m\u001b[0mvalue\u001b[0m\u001b[0;34m)\u001b[0m\u001b[0;34m\u001b[0m\u001b[0;34m\u001b[0m\u001b[0m\n\u001b[1;32m      3\u001b[0m \u001b[0mprint\u001b[0m\u001b[0;34m(\u001b[0m\u001b[0mb\u001b[0m\u001b[0;34m.\u001b[0m\u001b[0mnext\u001b[0m\u001b[0;34m.\u001b[0m\u001b[0mvalue\u001b[0m\u001b[0;34m)\u001b[0m\u001b[0;34m\u001b[0m\u001b[0;34m\u001b[0m\u001b[0m\n\u001b[1;32m      4\u001b[0m \u001b[0mprint\u001b[0m\u001b[0;34m(\u001b[0m\u001b[0ma\u001b[0m\u001b[0;34m.\u001b[0m\u001b[0mnext\u001b[0m\u001b[0;34m.\u001b[0m\u001b[0mvalue\u001b[0m\u001b[0;34m)\u001b[0m \u001b[0;31m# should give an error\u001b[0m\u001b[0;34m\u001b[0m\u001b[0;34m\u001b[0m\u001b[0m\n",
      "\u001b[0;31mAttributeError\u001b[0m: 'NoneType' object has no attribute 'value'"
     ]
    }
   ],
   "source": [
    "print(d.next.value)\n",
    "print(c.next.value)\n",
    "print(b.next.value)\n",
    "print(a.next.value) # should give an error\n"
   ]
  },
  {
   "cell_type": "markdown",
   "metadata": {},
   "source": [
    "#### LL Nth to last node\n",
    "- write a function that takes a head node and an int value \"n\" and returns *nth* to last node in the linked list."
   ]
  },
  {
   "cell_type": "markdown",
   "metadata": {},
   "source": [
    "#### Solution"
   ]
  },
  {
   "cell_type": "code",
   "execution_count": 16,
   "metadata": {},
   "outputs": [],
   "source": [
    "def nth_last(a=Node,n=int):\n",
    "    traversed = [] #maintain a list of traversed nodes\n",
    "    while a: #to traverse till end\n",
    "        traversed.append(a) # add to traversed list\n",
    "        a = a.next\n",
    "    return traversed[-n] # return Nth last list element (negative indexing used )"
   ]
  },
  {
   "cell_type": "raw",
   "metadata": {},
   "source": [
    "No comparision operator like if a.next!=None is required since \"if not a.next\" will work because it will eventually be None.\n",
    "None, essentially means, does not exist,yet.\n",
    "therefore while(a) will run till a = None"
   ]
  },
  {
   "cell_type": "code",
   "execution_count": 17,
   "metadata": {},
   "outputs": [],
   "source": [
    "a = Node(1)\n",
    "b = Node(2)\n",
    "c = Node(3)\n",
    "d = Node(4)\n",
    "e = Node(5)\n",
    "a.next = b\n",
    "b.next = c\n",
    "c.next = d\n",
    "d.next = e"
   ]
  },
  {
   "cell_type": "code",
   "execution_count": 18,
   "metadata": {},
   "outputs": [
    {
     "data": {
      "text/plain": [
       "4"
      ]
     },
     "execution_count": 18,
     "metadata": {},
     "output_type": "execute_result"
    }
   ],
   "source": [
    "nth_last(a,2).value"
   ]
  },
  {
   "cell_type": "markdown",
   "metadata": {},
   "source": [
    "***"
   ]
  },
  {
   "cell_type": "markdown",
   "metadata": {},
   "source": []
  },
  {
   "cell_type": "markdown",
   "metadata": {},
   "source": [
    "## Additional Resources"
   ]
  },
  {
   "cell_type": "markdown",
   "metadata": {},
   "source": [
    "1.  [Classes and Objects](https://www.w3schools.com/python/python_classes.asp)\n",
    "2. [Lists](https://www.w3schools.com/python/python_lists.asp)\n",
    "3. A great resource to learn more about Linked Lists, various problems and operations on it, and other implementations - [Further Linked Lists](https://www.geeksforgeeks.org/data-structures/linked-list/#quick)"
   ]
  }
 ],
 "metadata": {
  "kernelspec": {
   "display_name": "Python 3",
   "language": "python",
   "name": "python3"
  },
  "language_info": {
   "codemirror_mode": {
    "name": "ipython",
    "version": 3
   },
   "file_extension": ".py",
   "mimetype": "text/x-python",
   "name": "python",
   "nbconvert_exporter": "python",
   "pygments_lexer": "ipython3",
   "version": "3.7.3"
  }
 },
 "nbformat": 4,
 "nbformat_minor": 4
}
