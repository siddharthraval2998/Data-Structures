{
 "cells": [
  {
   "cell_type": "markdown",
   "metadata": {},
   "source": [
    "# Queue"
   ]
  },
  {
   "cell_type": "markdown",
   "metadata": {},
   "source": [
    "- A queue is an ordered collection of items where the addition of new items happens at one end called *rear* and the removal of items is done at the *front*.\n",
    "- Think any regular queue. add to rear, remove from front.\n",
    "- FIFO or FCFS"
   ]
  },
  {
   "cell_type": "code",
   "execution_count": 3,
   "metadata": {},
   "outputs": [],
   "source": [
    "#this queue goes from right to left\n",
    "class Queue():\n",
    "    def __init__(self):\n",
    "        self.items = []\n",
    "    def is_empty(self):\n",
    "        return self.items==[]\n",
    "    def enq(self,item):\n",
    "        self.items.append(item)\n",
    "    def deq(self):\n",
    "        del self.items[0]\n",
    "    def size(self):\n",
    "        return len(self.items)\n",
    "    def show(self):\n",
    "        return self.items"
   ]
  },
  {
   "cell_type": "code",
   "execution_count": 4,
   "metadata": {},
   "outputs": [
    {
     "name": "stdout",
     "output_type": "stream",
     "text": [
      "True\n",
      "[2, 3, 4] 3\n"
     ]
    }
   ],
   "source": [
    "q= Queue()\n",
    "print(q.is_empty())\n",
    "q.enq(1)\n",
    "q.enq(2)\n",
    "q.enq(3)\n",
    "q.enq(4)\n",
    "q.deq()\n",
    "print(q.show(),q.size())"
   ]
  },
  {
   "cell_type": "markdown",
   "metadata": {},
   "source": [
    "# Deque"
   ]
  },
  {
   "cell_type": "markdown",
   "metadata": {},
   "source": [
    "- A double ended queue.\n",
    "- It has two ends, *front* and *rear*, and the items remain positioned in the collection.\n",
    "- Items can be added/removed at both the front and rear.\n",
    "- NOT LIFO or FIFO"
   ]
  },
  {
   "cell_type": "code",
   "execution_count": 5,
   "metadata": {},
   "outputs": [],
   "source": [
    "#deque implementation. Hence arr/remove front/rear methods\n",
    "class Deque():\n",
    "    def __init__(self):\n",
    "        self.items = []\n",
    "    def is_empty(self):\n",
    "        return self.items==[]\n",
    "    def add_rear(self,item):\n",
    "        self.items.append(item)\n",
    "    def add_front(self,item):\n",
    "        self.items.insert(0,item)\n",
    "    def remove_front(self):\n",
    "        del self.items[0]\n",
    "    def remove_rear(self):\n",
    "        del self.items[-1]\n",
    "    def size(self):\n",
    "        return len(self.items)\n",
    "    def show(self):\n",
    "        return self.items"
   ]
  },
  {
   "cell_type": "code",
   "execution_count": 6,
   "metadata": {},
   "outputs": [
    {
     "name": "stdout",
     "output_type": "stream",
     "text": [
      "True\n",
      "[1]\n",
      "[1, 2]\n",
      "[3, 1, 2]\n",
      "[3, 1, 2, 4]\n",
      "4\n",
      "[1, 2, 4]\n",
      "[1, 2] 2\n"
     ]
    }
   ],
   "source": [
    "d= Deque()\n",
    "print(d.is_empty())\n",
    "d.add_front(1)\n",
    "print(d.show())\n",
    "d.add_rear(2)\n",
    "print(d.show())\n",
    "d.add_front(3)\n",
    "print(d.show())\n",
    "d.add_rear(4)\n",
    "print(d.show())\n",
    "print(d.size())\n",
    "d.remove_front()\n",
    "print(d.show())\n",
    "d.remove_rear()\n",
    "print(d.show(),d.size())"
   ]
  }
 ],
 "metadata": {
  "kernelspec": {
   "display_name": "Python 3",
   "language": "python",
   "name": "python3"
  },
  "language_info": {
   "codemirror_mode": {
    "name": "ipython",
    "version": 3
   },
   "file_extension": ".py",
   "mimetype": "text/x-python",
   "name": "python",
   "nbconvert_exporter": "python",
   "pygments_lexer": "ipython3",
   "version": "3.7.3"
  }
 },
 "nbformat": 4,
 "nbformat_minor": 4
}
