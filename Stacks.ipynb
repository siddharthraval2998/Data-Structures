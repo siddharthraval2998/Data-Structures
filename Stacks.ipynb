{
 "cells": [
  {
   "cell_type": "markdown",
   "metadata": {},
   "source": [
    "# Stacks"
   ]
  },
  {
   "cell_type": "markdown",
   "metadata": {},
   "source": [
    "- A stack is an ordered collection of items where the addition and removal of items takes place at the same end, called the top.\n",
    "- think a stack of blocks, from *base* to *top*.\n",
    "- Uses LIFO oredering.\n",
    "- Base element has been in the stack for the longest time.\n",
    "- eg. in a web browser, urls are stored on a stack and we can use the back button to traverse it."
   ]
  },
  {
   "cell_type": "code",
   "execution_count": 1,
   "metadata": {},
   "outputs": [],
   "source": [
    "class Stack(object):\n",
    "    def __init__(self):\n",
    "        self.items = []\n",
    "    def is_empty(self):\n",
    "        return self.items == []\n",
    "    def push(self,item):\n",
    "        self.items.append(item)\n",
    "    def pop(self):\n",
    "        if len(self.items)!=0:\n",
    "            return self.items.pop()\n",
    "        else: return\n",
    "    def peek(self):\n",
    "        if len(self.items)!=0:\n",
    "            return self.items[-1]\n",
    "        else: return \"\"\n",
    "    def size(self):\n",
    "        return len(self.items)\n",
    "    def show(self):\n",
    "        return self.items"
   ]
  },
  {
   "cell_type": "code",
   "execution_count": 2,
   "metadata": {},
   "outputs": [
    {
     "name": "stdout",
     "output_type": "stream",
     "text": [
      "True\n",
      "3\n",
      "3\n",
      "3\n",
      "2\n",
      "False\n"
     ]
    },
    {
     "data": {
      "text/plain": [
       "[1, 2]"
      ]
     },
     "execution_count": 2,
     "metadata": {},
     "output_type": "execute_result"
    }
   ],
   "source": [
    "s = Stack()\n",
    "print(s.is_empty())\n",
    "s.push(1)\n",
    "s.push(2)\n",
    "s.push(3)\n",
    "print(s.peek())\n",
    "print(s.size())\n",
    "print(s.pop())\n",
    "print(s.size())\n",
    "print(s.is_empty())\n",
    "s.show()"
   ]
  },
  {
   "cell_type": "markdown",
   "metadata": {},
   "source": [
    "# Interview problems"
   ]
  },
  {
   "cell_type": "markdown",
   "metadata": {},
   "source": [
    "## Balanced parantheses check\n",
    "- check if in a given string of diff. types of parantheses, all are balanced. (opened and closed in the correct order)\n",
    "- assume input string have no spaces or other characters."
   ]
  },
  {
   "cell_type": "code",
   "execution_count": 3,
   "metadata": {},
   "outputs": [],
   "source": [
    "def bal_check(s = str):\n",
    "    def opposite(a=str): #returning closing brckets\n",
    "        if a==\"(\" : return \")\"\n",
    "        elif a==\"{\" : return \"}\"\n",
    "        elif a==\"[\" :return \"]\"\n",
    "    opened = Stack() \n",
    "    closed = Stack()\n",
    "    if len(s)%2==0: \n",
    "        for p in s:\n",
    "            if p==\"(\" or p==\"[\" or p==\"{\":\n",
    "                opened.push(p)\n",
    "            elif p==\")\" or p==\"]\" or p==\"}\":\n",
    "                closed.push(p)\n",
    "            if opened.size!=0 and closed.size!=0: #to avoid index out of bounds\n",
    "                if closed.peek()==opposite(opened.peek()):\n",
    "                    opened.pop()\n",
    "                    closed.pop()\n",
    "                else: continue\n",
    "        if opened.size()==closed.size()==0:\n",
    "            return True\n",
    "        else : return False\n",
    "    else : return False # if odd no of brackets, no chance of true"
   ]
  },
  {
   "cell_type": "raw",
   "metadata": {},
   "source": [
    "Note- needed to make change in stack.peek() to return \"\" if size!=0 to avoid index out of bounds."
   ]
  },
  {
   "cell_type": "code",
   "execution_count": 4,
   "metadata": {},
   "outputs": [
    {
     "data": {
      "text/plain": [
       "True"
      ]
     },
     "execution_count": 4,
     "metadata": {},
     "output_type": "execute_result"
    }
   ],
   "source": [
    "bal_check(\"({})[()]\")"
   ]
  },
  {
   "cell_type": "code",
   "execution_count": 5,
   "metadata": {},
   "outputs": [
    {
     "data": {
      "text/plain": [
       "True"
      ]
     },
     "execution_count": 5,
     "metadata": {},
     "output_type": "execute_result"
    }
   ],
   "source": [
    "bal_check(\"[{{{(())}}}]((()))\")"
   ]
  },
  {
   "cell_type": "code",
   "execution_count": 6,
   "metadata": {},
   "outputs": [
    {
     "data": {
      "text/plain": [
       "False"
      ]
     },
     "execution_count": 6,
     "metadata": {},
     "output_type": "execute_result"
    }
   ],
   "source": [
    "bal_check(\"[[[]])]\")"
   ]
  }
 ],
 "metadata": {
  "kernelspec": {
   "display_name": "Python 3",
   "language": "python",
   "name": "python3"
  },
  "language_info": {
   "codemirror_mode": {
    "name": "ipython",
    "version": 3
   },
   "file_extension": ".py",
   "mimetype": "text/x-python",
   "name": "python",
   "nbconvert_exporter": "python",
   "pygments_lexer": "ipython3",
   "version": "3.7.3"
  }
 },
 "nbformat": 4,
 "nbformat_minor": 4
}
