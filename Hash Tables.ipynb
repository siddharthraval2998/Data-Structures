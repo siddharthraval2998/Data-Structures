{
 "cells": [
  {
   "cell_type": "markdown",
   "metadata": {},
   "source": [
    "# Hash Tables"
   ]
  },
  {
   "cell_type": "markdown",
   "metadata": {},
   "source": [
    "## Contents\n",
    "1. Introduction\n",
    "2. The Concept\n",
    "3. Applications\n",
    "4. Python Implementation - The Dictionary\n",
    "    - Bonus - **kwargs\n",
    "5. Additional Resources"
   ]
  },
  {
   "cell_type": "markdown",
   "metadata": {},
   "source": [
    "******"
   ]
  },
  {
   "cell_type": "markdown",
   "metadata": {},
   "source": [
    "## Introduction"
   ]
  },
  {
   "cell_type": "markdown",
   "metadata": {},
   "source": [
    "This post is a continuation of a series on Data Strucutres and their implementation in Python. If you haven't already, I recommend checking out the other posts [here](https://thefmlblog.blogspot.com/). <br>\n",
    "Hash Tables are something whose name you have heard a lot but never really paid much attention to. If you are a new python-ista, you probably have been using them without even knowing, as dictionaries!<br>\n",
    "In this post, we'll go over what hash tables really are, what is a \"Hash\" in the first place, why use them and how to use them in python.<br> If you are really interested, I will add a link in the Additional Resources section that takes you through creating your **own** Hash Table Class in python and implementating it's various functionalities, from scratch. Highly recommended!<br>\n",
    "Let's get started."
   ]
  },
  {
   "cell_type": "markdown",
   "metadata": {},
   "source": [
    "******"
   ]
  },
  {
   "cell_type": "markdown",
   "metadata": {},
   "source": [
    "## The Concept"
   ]
  },
  {
   "cell_type": "markdown",
   "metadata": {},
   "source": [
    "A Hash Table is a data structure that is used to store information *VALUES*. But we already have arrays, and all sorts of other ways of storing our information.<br>\n",
    "So why come up with a new one? "
   ]
  },
  {
   "cell_type": "markdown",
   "metadata": {},
   "source": [
    "### Why Hash Tables?"
   ]
  },
  {
   "cell_type": "markdown",
   "metadata": {},
   "source": [
    "Say you have an array, and you need to access an element in said array. What do you do?<br>\n",
    "You either need to know exactly what the index of the item you want to access, is, or you have to search through the entire array till you get to your desired element. Pretty expensive!<br>\n",
    "A Hash Table provides nearly constant time ( O(1) ) access! How? <br>\n",
    "Imagine if your Data consisted of *key*-*value* pairs, like a lot of Real-World data, kind of like -  "
   ]
  },
  {
   "cell_type": "code",
   "execution_count": 1,
   "metadata": {},
   "outputs": [
    {
     "data": {
      "text/plain": [
       "[('Name', 'Thor'), ('Age', 2000)]"
      ]
     },
     "execution_count": 1,
     "metadata": {},
     "output_type": "execute_result"
    }
   ],
   "source": [
    "[(\"Name\",\"Thor\"),(\"Age\",2000)]"
   ]
  },
  {
   "cell_type": "markdown",
   "metadata": {},
   "source": [
    "Here your ***values*** (Thor, 2000) are pertaining to certain aspects or ***keys*** (Name, Age), and say you have thousands of records like these. <br>\n",
    "Wouldn't it be convenient if we were able to access our *values* from their *keys* , and skip the indexing jargon and problems?<br>\n",
    "But how would you do it?<br>\n",
    "What if we could convert our *keys* into indices of the *values* themselves? That way, we can straight away access our *value* using it's *key*, voila.<br>\n",
    "And how would we do that? Using a brilliant idea called a **Hash Function**"
   ]
  },
  {
   "cell_type": "markdown",
   "metadata": {},
   "source": [
    "### The Hash function"
   ]
  },
  {
   "cell_type": "markdown",
   "metadata": {},
   "source": [
    "A Hash function is a function that we will use to convert our string ***key*** into an integer index.<br>This integer index can then be used to access the corresponding ***value***. <br>\n",
    "In general, A hash function is any function that can be used to map data of arbitrary size to fixed-size values.<br>\n",
    "The output of the hash function, called a hash value or simply a hash, will be unique for every input and thus can be used for indexing. "
   ]
  },
  {
   "attachments": {
    "d328f163-6570-42b7-8dc2-50b326fb955d.png": {
     "image/png": "[encoded data removed]"
    }
   },
   "cell_type": "markdown",
   "metadata": {},
   "source": [
    "![hash_function.png](attachment:d328f163-6570-42b7-8dc2-50b326fb955d.png)"
   ]
  },
  {
   "cell_type": "markdown",
   "metadata": {},
   "source": [
    "********"
   ]
  },
  {
   "cell_type": "markdown",
   "metadata": {},
   "source": [
    "## Applications"
   ]
  },
  {
   "cell_type": "markdown",
   "metadata": {},
   "source": [
    "Hash Tables work very well in scenarios where you have a large amount of data and we need to quicky search and retrieve information.<br>You can probably imagine several use-cases where such functionality is required.<br>\n",
    "Some important background uses are - \n",
    "- For compiler symbol tables. The compiler uses a symbol table to keep track of the user-defined symbols in a C++ program. This allows the compiler to quickly look up attributes associated with symbols (for example, variable names)\n",
    "- For implementing passwords for systems with multiple users. Hash Tables allow for a fast retrieval of the password which corresponds to a given username.\n",
    "\n",
    "Some that you can probably guess why - \n",
    "- Driver's license record's. With a hash table, you could quickly get information about the driver (ie. name, address, age) given the licence number.\n",
    "- Telephone book databases. You could make use of a hash table implementatation to quickly look up John Smith's telephone number.\n",
    "- Electronic library catalogs. Hash Table implementations allow for a fast search among the millions of materials stored in the library.\n",
    "\n",
    "\n",
    "And there's lots more where that came from."
   ]
  },
  {
   "cell_type": "markdown",
   "metadata": {},
   "source": [
    "**********"
   ]
  },
  {
   "cell_type": "markdown",
   "metadata": {},
   "source": [
    "## Python Implementation - The Dictionary"
   ]
  },
  {
   "cell_type": "markdown",
   "metadata": {},
   "source": [
    "You have almost certainly used Hash tables in python. Maybe even unknowingly! <br>\n",
    "In Python, Hash Tables are internally implemented as what we know as Dictionaries.<br>\n",
    "Below is a refresher on dictionaries and and various operations on them. And also one **Amazing** way of using them."
   ]
  },
  {
   "cell_type": "markdown",
   "metadata": {},
   "source": [
    "- A dictionary is a collection which is **unordered**, **changeable** and **indexed**. In Python dictionaries are written with curly brackets, and they have keys and values."
   ]
  },
  {
   "cell_type": "code",
   "execution_count": 2,
   "metadata": {},
   "outputs": [],
   "source": [
    "# A normal Dictionary\n",
    "#elements are key:value pairs. elements are seperated by commas.\n",
    "normal_dictionary = {\"first_name\":\"steve\",\"last_name\":\"rogers\", \"hero_name\":\"Captain America\" }"
   ]
  },
  {
   "cell_type": "markdown",
   "metadata": {},
   "source": [
    "We can have a whole another dictionary as an element of a Dictionary!"
   ]
  },
  {
   "cell_type": "code",
   "execution_count": 3,
   "metadata": {},
   "outputs": [],
   "source": [
    "#nested dict\n",
    "'''\n",
    "\"avengers\" will be our main dictionary and each of it's elements (ironman, cap america, etc ) will be a dictionary on its own\n",
    "containing fields like name and year.\n",
    "P.S. A lot of the values i put in here are going to be arbitrary, so Marvel nerds, Back Off!\n",
    "'''\n",
    "avengers = {\n",
    "  \"ironman\" : {\n",
    "    \"name\" : \"tony\",\n",
    "    \"year\" : 2004\n",
    "  },\n",
    "  \"cap america\" : {\n",
    "    \"name\" : \"steve\",\n",
    "    \"year\" : 2007\n",
    "  },\n",
    "  \"hulk\" : {\n",
    "    \"name\" : \"bruce\",\n",
    "    \"year\" : 2011\n",
    "  }\n",
    "}"
   ]
  },
  {
   "cell_type": "markdown",
   "metadata": {},
   "source": [
    "### Accessing the elements "
   ]
  },
  {
   "cell_type": "code",
   "execution_count": 4,
   "metadata": {},
   "outputs": [
    {
     "data": {
      "text/plain": [
       "{'name': 'steve', 'year': 2007}"
      ]
     },
     "execution_count": 4,
     "metadata": {},
     "output_type": "execute_result"
    }
   ],
   "source": [
    "avengers[\"cap america\"] #Method 1"
   ]
  },
  {
   "cell_type": "code",
   "execution_count": 5,
   "metadata": {},
   "outputs": [
    {
     "data": {
      "text/plain": [
       "{'name': 'bruce', 'year': 2011}"
      ]
     },
     "execution_count": 5,
     "metadata": {},
     "output_type": "execute_result"
    }
   ],
   "source": [
    "avengers.get(\"hulk\") # Method 2"
   ]
  },
  {
   "cell_type": "code",
   "execution_count": 6,
   "metadata": {},
   "outputs": [
    {
     "data": {
      "text/plain": [
       "'tony'"
      ]
     },
     "execution_count": 6,
     "metadata": {},
     "output_type": "execute_result"
    }
   ],
   "source": [
    "avengers[\"ironman\"][\"name\"] # Accessing inner dictionary using method 1"
   ]
  },
  {
   "cell_type": "code",
   "execution_count": 7,
   "metadata": {},
   "outputs": [
    {
     "data": {
      "text/plain": [
       "'bruce'"
      ]
     },
     "execution_count": 7,
     "metadata": {},
     "output_type": "execute_result"
    }
   ],
   "source": [
    "avengers.get(\"hulk\")[\"name\"]  #Accessing the inner dictionary using method 2"
   ]
  },
  {
   "cell_type": "markdown",
   "metadata": {},
   "source": [
    "### Looping through the dictionary"
   ]
  },
  {
   "cell_type": "code",
   "execution_count": 8,
   "metadata": {},
   "outputs": [
    {
     "name": "stdout",
     "output_type": "stream",
     "text": [
      "ironman\n",
      "{'name': 'tony', 'year': 2004}\n",
      "tony\n",
      "cap america\n",
      "{'name': 'steve', 'year': 2007}\n",
      "steve\n",
      "hulk\n",
      "{'name': 'bruce', 'year': 2011}\n",
      "bruce\n"
     ]
    }
   ],
   "source": [
    "for x in avengers:\n",
    "    print(x) # prints all KEY names in dict\n",
    "    print(avengers[x]) #prints inner dict with key x\n",
    "    print(avengers[x][\"name\"]) #accessing level 2 VALUES"
   ]
  },
  {
   "cell_type": "code",
   "execution_count": 9,
   "metadata": {},
   "outputs": [
    {
     "name": "stdout",
     "output_type": "stream",
     "text": [
      "{'name': 'tony', 'year': 2004}\n",
      "tony\n",
      "{'name': 'steve', 'year': 2007}\n",
      "steve\n",
      "{'name': 'bruce', 'year': 2011}\n",
      "bruce\n"
     ]
    }
   ],
   "source": [
    "for x in avengers.values(): #directly accesses nested dict, since nested dicts are values of level 1 dict.\n",
    "    print(x)\n",
    "    print(x[\"name\"])"
   ]
  },
  {
   "cell_type": "code",
   "execution_count": 10,
   "metadata": {},
   "outputs": [
    {
     "name": "stdout",
     "output_type": "stream",
     "text": [
      "ironman {'name': 'tony', 'year': 2004}\n",
      "tony\n",
      "cap america {'name': 'steve', 'year': 2007}\n",
      "steve\n",
      "hulk {'name': 'bruce', 'year': 2011}\n",
      "bruce\n"
     ]
    }
   ],
   "source": [
    "for x,y in avengers.items(): # x = key    y = value \n",
    "    print(x,y)\n",
    "    print(y[\"name\"])"
   ]
  },
  {
   "cell_type": "raw",
   "metadata": {},
   "source": [
    "Key checks can be performed using \"in\""
   ]
  },
  {
   "cell_type": "markdown",
   "metadata": {},
   "source": [
    "### Adding and Removing items"
   ]
  },
  {
   "cell_type": "code",
   "execution_count": 11,
   "metadata": {},
   "outputs": [
    {
     "data": {
      "text/plain": [
       "{'ironman': {'name': 'tony', 'year': 2004},\n",
       " 'cap america': {'name': 'steve', 'year': 2007},\n",
       " 'hulk': {'name': 'bruce', 'year': 2011},\n",
       " 'thor': {'name': 'thor odinson', 'year': 1004},\n",
       " 'cap marvel': {'name': 'carol', 'year': 1980}}"
      ]
     },
     "execution_count": 11,
     "metadata": {},
     "output_type": "execute_result"
    }
   ],
   "source": [
    "avengers[\"thor\"] = {'name': 'thor odinson', 'year': 1004} # adding a value\n",
    "avengers[\"cap marvel\"] = {'name': 'carol', 'year': 1980} \n",
    "avengers"
   ]
  },
  {
   "cell_type": "code",
   "execution_count": 12,
   "metadata": {},
   "outputs": [
    {
     "data": {
      "text/plain": [
       "{'ironman': {'name': 'tony', 'year': 2004},\n",
       " 'cap america': {'name': 'steve', 'year': 2007},\n",
       " 'hulk': {'name': 'bruce', 'year': 2011},\n",
       " 'cap marvel': {'name': 'carol', 'year': 1980}}"
      ]
     },
     "execution_count": 12,
     "metadata": {},
     "output_type": "execute_result"
    }
   ],
   "source": [
    "avengers.pop(\"thor\") # removing \"thor\"\n",
    "avengers"
   ]
  },
  {
   "cell_type": "code",
   "execution_count": 13,
   "metadata": {},
   "outputs": [
    {
     "data": {
      "text/plain": [
       "{'ironman': {'name': 'tony', 'year': 2004},\n",
       " 'cap america': {'name': 'steve', 'year': 2007},\n",
       " 'hulk': {'name': 'bruce', 'year': 2011},\n",
       " 'cap marvel': {'name': 'carol'}}"
      ]
     },
     "execution_count": 13,
     "metadata": {},
     "output_type": "execute_result"
    }
   ],
   "source": [
    "del avengers[\"cap marvel\"][\"year\"] # another method for deleting\n",
    "avengers"
   ]
  },
  {
   "cell_type": "markdown",
   "metadata": {},
   "source": [
    "Use >>>  dict.clear() to empty the dictionary"
   ]
  },
  {
   "cell_type": "markdown",
   "metadata": {},
   "source": [
    "Note: Use >>> dict.copy() to copy the dictionary,<br>\n",
    "dict2 = dict1 just creates a reference to dict1, and thus a change made in dict2 **won't** reflect a change in dict1, but a change made in dict1 **Will** reflect in dict2. "
   ]
  },
  {
   "cell_type": "markdown",
   "metadata": {},
   "source": []
  },
  {
   "cell_type": "markdown",
   "metadata": {},
   "source": [
    "Now for the Amazing application.<br>\n",
    "Function keyword arguments!<br>\n",
    "Functions many times use named arguments of the form *function_name(argument_name=argument_value*)<br> \n",
    "Due to the nature of the dictionary elements to be *Key:Value* pairs, we can pass an entire dictionary to a function as arbitrary number of keyword arguments, and python will unpack it and map *keys* as argument names and their respective *values* as argument values.<br>\n",
    "let us see an example below- "
   ]
  },
  {
   "cell_type": "code",
   "execution_count": 14,
   "metadata": {},
   "outputs": [
    {
     "name": "stdout",
     "output_type": "stream",
     "text": [
      "The original dictionary is : {'a': 1, 'b': 2}\n",
      "The default function call yields : \n",
      "The value of a is :  4\n",
      "The value of b is :  5\n",
      "The function values with unpacking : \n",
      "The value of a is :  1\n",
      "The value of b is :  2\n"
     ]
    }
   ],
   "source": [
    "def test_func(a = 4, b = 5): \n",
    "    print(\"The value of a is : \" , a) \n",
    "    print(\"The value of b is : \" , b) \n",
    "test_dict = {'a' : 1, 'b' : 2} \n",
    "print(\"The original dictionary is : \" + str(test_dict)) \n",
    "print(\"The default function call yields : \") \n",
    "test_func()\n",
    "print(\"The function values with unpacking : \") \n",
    "test_func(**test_dict) # \"**\" is called splat operator"
   ]
  },
  {
   "cell_type": "markdown",
   "metadata": {},
   "source": [
    "******"
   ]
  },
  {
   "cell_type": "markdown",
   "metadata": {},
   "source": [
    "More articles in the series soon!\n",
    "Upcoming-\n",
    "<br>\n",
    "* Trees\n",
    "* Graphs, and more\n",
    "\n",
    "<br>\n",
    "Any feedback or comments are highly appreciated.\n",
    "<br>\n",
    "<br>\n",
    "Cheers!"
   ]
  },
  {
   "cell_type": "markdown",
   "metadata": {},
   "source": [
    "***"
   ]
  },
  {
   "cell_type": "markdown",
   "metadata": {},
   "source": []
  },
  {
   "cell_type": "markdown",
   "metadata": {},
   "source": [
    "## Additional Resources\n",
    "- [Hash Function](https://en.wikipedia.org/wiki/Hash_function)\n",
    "- [Hash Tables from scratch](https://coderbook.com/@marcus/how-to-create-a-hash-table-from-scratch-in-python/)\n",
    "- [Dictionary Methods](https://www.w3schools.com/python/python_ref_dictionary.asp)"
   ]
  }
 ],
 "metadata": {
  "kernelspec": {
   "display_name": "Python 3",
   "language": "python",
   "name": "python3"
  },
  "language_info": {
   "codemirror_mode": {
    "name": "ipython",
    "version": 3
   },
   "file_extension": ".py",
   "mimetype": "text/x-python",
   "name": "python",
   "nbconvert_exporter": "python",
   "pygments_lexer": "ipython3",
   "version": "3.7.3"
  }
 },
 "nbformat": 4,
 "nbformat_minor": 4
}
